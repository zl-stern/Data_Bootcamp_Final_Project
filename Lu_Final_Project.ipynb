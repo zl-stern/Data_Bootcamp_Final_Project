{
 "cells": [
  {
   "cell_type": "markdown",
   "metadata": {},
   "source": [
    "# An Analysis of Winning Factors in The International 2017 Tournament: DotA 2"
   ]
  },
  {
   "cell_type": "markdown",
   "metadata": {},
   "source": [
    "## By Zhe Lu (zl1033)"
   ]
  },
  {
   "cell_type": "markdown",
   "metadata": {},
   "source": [
    "### A Brief Introduction to DotA 2"
   ]
  },
  {
   "cell_type": "markdown",
   "metadata": {},
   "source": [
    "DotA 2 (Defense of The Ancients) is a massive multiplayer online battle arena game ([MOBA](https://en.wikipedia.org/wiki/Multiplayer_online_battle_arena)) developed by [Valve Corporation](https://en.wikipedia.org/wiki/Valve_Corporation). Two opposing teams (Radiant and Dire) each select 5 heroes out of a 115-hero pool and battle until one team's Ancient Building is down. "
   ]
  },
  {
   "cell_type": "markdown",
   "metadata": {},
   "source": [
    "### The International 2017"
   ]
  },
  {
   "cell_type": "markdown",
   "metadata": {},
   "source": [
    "The annual tournament takes place in August in Seattle Key Arena and it gathers 18 most talented teams around the world. The prize pool for the 2017 tournament was a whopping [25 million dollars](http://www.espn.com/esports/story/_/id/20267648/the-international-7-prize-pool-breaks-records) and the grand winner takes home nearly 11 million dollars. Undoubtedly, TI7 hosted by Valve was the most influential professional e-sport tournament ever. "
   ]
  },
  {
   "cell_type": "markdown",
   "metadata": {},
   "source": [
    "### Variables Explained"
   ]
  },
  {
   "cell_type": "markdown",
   "metadata": {},
   "source": [
    "Numerous variables factor into the outcome of a game: gold, kill/death/assist ratio, pre-game hero selections, just to name a few. For this analysis, I would like to dive deeper into statistics that might appear trivial to an amateur player, but those I expect to play a fairly large role in professional games. Just like any other sports event, the smallest mistakes can translate to big losses on the scoreboard. After analyzing the data, I hope to find out if it is true in a professional DotA game. \n",
    "\n",
    "I chose three variables: total runes grabbed, total stun time and total observer wards planted. \n",
    "1. **Runes** appear on the map every two minutes and they give the player who grabs it a small amount of gold that could turn into better equipment. In addition, this stat may also reflect something more significant than mere gold amount, because teams tend to compete hard on runes, and a dominanace on the stat might reflect the overall advantage the team has throughout the game;\n",
    "2. **Total stun time** reflects one team's ability to stun enemy heroes and attack them. It is arguably one of the most crucial components in a team fight, since most heroes paired with professional capabilities are pretty evasive;\n",
    "3. **Total observer wards planted** reflect a team's control of the map as they give visibility to areas on the map that would otherwise be dark. This stat is particularly important as more control over the map will very likely lead to higher team economy. "
   ]
  },
  {
   "cell_type": "markdown",
   "metadata": {},
   "source": [
    "### Setup"
   ]
  },
  {
   "cell_type": "markdown",
   "metadata": {},
   "source": [
    "Data came from here: https://www.opendota.com/explorer"
   ]
  },
  {
   "cell_type": "code",
   "execution_count": 39,
   "metadata": {
    "collapsed": true
   },
   "outputs": [],
   "source": [
    "SQL=\"\"\"\n",
    "SELECT t1.id, \n",
    "       t1.radiant_win, \n",
    "       t1.duration, \n",
    "       t1.radiant_obs, \n",
    "       t2.dire_obs, \n",
    "       t1.radiant_runes_pickup, \n",
    "       t2.dire_runes_pickup, \n",
    "       t1.radiant_stuns, \n",
    "       t2.dire_stuns \n",
    "FROM   (SELECT m.match_id           AS id, \n",
    "               m.radiant_win, \n",
    "               m.duration, \n",
    "               Sum(pm.obs_placed)   AS radiant_obs, \n",
    "               Sum(pm.rune_pickups) AS radiant_runes_pickup, \n",
    "               Sum(pm.stuns)        AS radiant_stuns \n",
    "        FROM   matches AS m, \n",
    "               player_matches AS pm \n",
    "        WHERE  m.leagueid = 5401 \n",
    "               AND pm.match_id = m.match_id \n",
    "               AND player_slot < 5 \n",
    "        GROUP  BY id) AS t1 \n",
    "       LEFT JOIN (SELECT m.match_id           AS id, \n",
    "                         Sum(pm.obs_placed)   AS dire_obs, \n",
    "                         Sum(pm.rune_pickups) AS dire_runes_pickup, \n",
    "                         Sum(pm.stuns)        AS dire_stuns \n",
    "                  FROM   matches AS m, \n",
    "                         player_matches AS pm \n",
    "                  WHERE  m.leagueid = 5401 \n",
    "                         AND pm.match_id = m.match_id \n",
    "                         AND player_slot > 127 \n",
    "                  GROUP  BY id) AS t2 \n",
    "              ON t1.id = t2.id \n",
    "ORDER  BY id DESC\n",
    "\"\"\""
   ]
  },
  {
   "cell_type": "code",
   "execution_count": 40,
   "metadata": {
    "collapsed": true
   },
   "outputs": [],
   "source": [
    "import pandas as pd\n",
    "import matplotlib.pyplot as plt\n",
    "import numpy as np\n",
    "import statsmodels.formula.api as smf\n",
    "import datetime as dt\n",
    "df = pd.read_csv('data.csv', header=0).dropna()   \n",
    "# Load data from csv "
   ]
  },
  {
   "cell_type": "code",
   "execution_count": 41,
   "metadata": {},
   "outputs": [
    {
     "name": "stdout",
     "output_type": "stream",
     "text": [
      "Last Updated 2017-12-21\n"
     ]
    }
   ],
   "source": [
    "print('Last Updated', dt.date.today())"
   ]
  },
  {
   "cell_type": "code",
   "execution_count": 42,
   "metadata": {},
   "outputs": [
    {
     "data": {
      "text/plain": [
       "Index(['id', 'radiant_win', 'duration', 'radiant_obs', 'dire_obs',\n",
       "       'radiant_runes_pickup', 'dire_runes_pickup', 'radiant_stuns',\n",
       "       'dire_stuns'],\n",
       "      dtype='object')"
      ]
     },
     "execution_count": 42,
     "metadata": {},
     "output_type": "execute_result"
    }
   ],
   "source": [
    "df.columns\n",
    "# Preview dataframe headers"
   ]
  },
  {
   "cell_type": "code",
   "execution_count": 43,
   "metadata": {
    "scrolled": true
   },
   "outputs": [
    {
     "data": {
      "text/html": [
       "<div>\n",
       "<style>\n",
       "    .dataframe thead tr:only-child th {\n",
       "        text-align: right;\n",
       "    }\n",
       "\n",
       "    .dataframe thead th {\n",
       "        text-align: left;\n",
       "    }\n",
       "\n",
       "    .dataframe tbody tr th {\n",
       "        vertical-align: top;\n",
       "    }\n",
       "</style>\n",
       "<table border=\"1\" class=\"dataframe\">\n",
       "  <thead>\n",
       "    <tr style=\"text-align: right;\">\n",
       "      <th></th>\n",
       "      <th>id</th>\n",
       "      <th>radiant_win</th>\n",
       "      <th>duration</th>\n",
       "      <th>radiant_obs</th>\n",
       "      <th>dire_obs</th>\n",
       "      <th>radiant_runes_pickup</th>\n",
       "      <th>dire_runes_pickup</th>\n",
       "      <th>radiant_stuns</th>\n",
       "      <th>dire_stuns</th>\n",
       "    </tr>\n",
       "  </thead>\n",
       "  <tbody>\n",
       "    <tr>\n",
       "      <th>0</th>\n",
       "      <td>3372726385</td>\n",
       "      <td>False</td>\n",
       "      <td>2719</td>\n",
       "      <td>18.0</td>\n",
       "      <td>20.0</td>\n",
       "      <td>49.0</td>\n",
       "      <td>55.0</td>\n",
       "      <td>194.6930</td>\n",
       "      <td>82.1098</td>\n",
       "    </tr>\n",
       "    <tr>\n",
       "      <th>1</th>\n",
       "      <td>3372676225</td>\n",
       "      <td>True</td>\n",
       "      <td>2051</td>\n",
       "      <td>15.0</td>\n",
       "      <td>14.0</td>\n",
       "      <td>35.0</td>\n",
       "      <td>45.0</td>\n",
       "      <td>85.3829</td>\n",
       "      <td>51.2215</td>\n",
       "    </tr>\n",
       "    <tr>\n",
       "      <th>2</th>\n",
       "      <td>3372622939</td>\n",
       "      <td>False</td>\n",
       "      <td>1654</td>\n",
       "      <td>11.0</td>\n",
       "      <td>12.0</td>\n",
       "      <td>23.0</td>\n",
       "      <td>34.0</td>\n",
       "      <td>123.3330</td>\n",
       "      <td>28.2836</td>\n",
       "    </tr>\n",
       "    <tr>\n",
       "      <th>3</th>\n",
       "      <td>3372455628</td>\n",
       "      <td>True</td>\n",
       "      <td>2931</td>\n",
       "      <td>21.0</td>\n",
       "      <td>20.0</td>\n",
       "      <td>73.0</td>\n",
       "      <td>33.0</td>\n",
       "      <td>183.2160</td>\n",
       "      <td>263.4450</td>\n",
       "    </tr>\n",
       "    <tr>\n",
       "      <th>4</th>\n",
       "      <td>3372386596</td>\n",
       "      <td>True</td>\n",
       "      <td>1880</td>\n",
       "      <td>13.0</td>\n",
       "      <td>14.0</td>\n",
       "      <td>44.0</td>\n",
       "      <td>20.0</td>\n",
       "      <td>119.3300</td>\n",
       "      <td>22.5222</td>\n",
       "    </tr>\n",
       "  </tbody>\n",
       "</table>\n",
       "</div>"
      ],
      "text/plain": [
       "           id  radiant_win  duration  radiant_obs  dire_obs  \\\n",
       "0  3372726385        False      2719         18.0      20.0   \n",
       "1  3372676225         True      2051         15.0      14.0   \n",
       "2  3372622939        False      1654         11.0      12.0   \n",
       "3  3372455628         True      2931         21.0      20.0   \n",
       "4  3372386596         True      1880         13.0      14.0   \n",
       "\n",
       "   radiant_runes_pickup  dire_runes_pickup  radiant_stuns  dire_stuns  \n",
       "0                  49.0               55.0       194.6930     82.1098  \n",
       "1                  35.0               45.0        85.3829     51.2215  \n",
       "2                  23.0               34.0       123.3330     28.2836  \n",
       "3                  73.0               33.0       183.2160    263.4450  \n",
       "4                  44.0               20.0       119.3300     22.5222  "
      ]
     },
     "execution_count": 43,
     "metadata": {},
     "output_type": "execute_result"
    }
   ],
   "source": [
    "df.head(5)\n",
    "# Preview the top 5 sets of data"
   ]
  },
  {
   "cell_type": "code",
   "execution_count": 44,
   "metadata": {
    "scrolled": true
   },
   "outputs": [
    {
     "data": {
      "text/plain": [
       "(538, 9)"
      ]
     },
     "execution_count": 44,
     "metadata": {},
     "output_type": "execute_result"
    }
   ],
   "source": [
    "df.shape\n",
    "# Total of 538 games played in the tournament"
   ]
  },
  {
   "cell_type": "markdown",
   "metadata": {},
   "source": [
    "### Data Manipulation"
   ]
  },
  {
   "cell_type": "code",
   "execution_count": 45,
   "metadata": {
    "collapsed": true
   },
   "outputs": [],
   "source": [
    "def ratio_helper(row, postfix):\n",
    "    attr = \"%s_%s\"\n",
    "    winner, loser = \"dire\", \"radiant\" \n",
    "    if row['radiant_win']:\n",
    "        winner = \"radiant\"\n",
    "        loser = \"dire\"\n",
    "    return row[attr % (winner, postfix)] / row[attr % (loser, postfix)]\n",
    "df['rRunes'] = df.apply(lambda x: ratio_helper(x, 'runes_pickup'), axis=1)\n",
    "df['rObs'] = df.apply(lambda x: ratio_helper(x, 'obs'), axis=1)\n",
    "df['rStuns'] = df.apply(lambda x: ratio_helper(x, 'stuns'), axis=1)\n",
    "# Data Manipulation\n",
    "# Adding three ratios of 'winner's data / loser's data'"
   ]
  },
  {
   "cell_type": "markdown",
   "metadata": {},
   "source": [
    "### Runes "
   ]
  },
  {
   "cell_type": "code",
   "execution_count": 46,
   "metadata": {
    "scrolled": true
   },
   "outputs": [
    {
     "data": {
      "image/png": "[encoded data removed]",
      "text/plain": [
       "<matplotlib.figure.Figure at 0x109ea6da0>"
      ]
     },
     "metadata": {},
     "output_type": "display_data"
    }
   ],
   "source": [
    "plt.plot(df['rRunes'])\n",
    "plt.xlabel('Games')\n",
    "plt.ylabel('WinData/LoseData')\n",
    "plt.show()\n",
    "# Runes Analysis"
   ]
  },
  {
   "cell_type": "code",
   "execution_count": 47,
   "metadata": {
    "scrolled": true
   },
   "outputs": [
    {
     "data": {
      "text/plain": [
       "count    538.000000\n",
       "mean       1.395819\n",
       "std        0.551136\n",
       "min        0.399061\n",
       "25%        1.028612\n",
       "50%        1.278233\n",
       "75%        1.639091\n",
       "max        4.444444\n",
       "Name: rRunes, dtype: float64"
      ]
     },
     "execution_count": 47,
     "metadata": {},
     "output_type": "execute_result"
    }
   ],
   "source": [
    "df['rRunes'].describe()"
   ]
  },
  {
   "cell_type": "markdown",
   "metadata": {},
   "source": [
    "As described above, in at least 75% of the games, the winning side grabbed more runes than the losing team, and winners on average grabbed 1.4 times more runes. What caught me by surprise was the minimum ratio was only 0.40. My first guess would be that particular game was a classic \"comeback\" game in which the losing team dominated during most of the times and the other team caught a rare chance to flip the table and won the game only in the very late stage of the game. "
   ]
  },
  {
   "cell_type": "markdown",
   "metadata": {},
   "source": [
    "### Observer Wards"
   ]
  },
  {
   "cell_type": "code",
   "execution_count": 48,
   "metadata": {
    "scrolled": false
   },
   "outputs": [
    {
     "data": {
      "image/png": "[encoded data removed]",
      "text/plain": [
       "<matplotlib.figure.Figure at 0x115ef7668>"
      ]
     },
     "metadata": {},
     "output_type": "display_data"
    }
   ],
   "source": [
    "plt.plot(df['rObs'])\n",
    "plt.xlabel('Games')\n",
    "plt.ylabel('WinData/LoseData')\n",
    "plt.show()"
   ]
  },
  {
   "cell_type": "code",
   "execution_count": 49,
   "metadata": {
    "scrolled": true
   },
   "outputs": [
    {
     "data": {
      "text/plain": [
       "count    538.000000\n",
       "mean       1.016714\n",
       "std        0.084595\n",
       "min        0.800000\n",
       "25%        1.000000\n",
       "50%        1.000000\n",
       "75%        1.062500\n",
       "max        1.750000\n",
       "Name: rObs, dtype: float64"
      ]
     },
     "execution_count": 49,
     "metadata": {},
     "output_type": "execute_result"
    }
   ],
   "source": [
    "df['rObs'].describe()"
   ]
  },
  {
   "cell_type": "markdown",
   "metadata": {},
   "source": [
    "It is unsurprising to see such even distribution of observer wards planted by either team in competitive games. Winning teams would very much like to retain their advantages by aggressively controlling the map. On the other hand, losing teams would wish to find some breathing room as well. "
   ]
  },
  {
   "cell_type": "code",
   "execution_count": 50,
   "metadata": {},
   "outputs": [
    {
     "data": {
      "image/png": "[encoded data removed]",
      "text/plain": [
       "<matplotlib.figure.Figure at 0x1160b1278>"
      ]
     },
     "metadata": {},
     "output_type": "display_data"
    }
   ],
   "source": [
    "plt.scatter(df['duration'], df['radiant_obs'], color='blue')\n",
    "plt.scatter(df['duration'], df['dire_obs'], color='blue')\n",
    "plt.plot(df['duration'], df['duration']/150 + 2, color='red')\n",
    "plt.xlabel('Game Duration in Seconds')\n",
    "plt.ylabel('Number of Wards Planted')\n",
    "plt.show()"
   ]
  },
  {
   "cell_type": "markdown",
   "metadata": {},
   "source": [
    "I should explain: an observer ward lasts 360 seconds on the map and costs 80 gold. This graph shows tha pro teams habitually buy and place wards whenever possible throughout the whole game, which is absent in amateur games since buying wards puts extra pressure on support players. "
   ]
  },
  {
   "cell_type": "markdown",
   "metadata": {},
   "source": [
    "### Stun Time"
   ]
  },
  {
   "cell_type": "code",
   "execution_count": 51,
   "metadata": {
    "scrolled": true
   },
   "outputs": [
    {
     "data": {
      "image/png": "[encoded data removed]",
      "text/plain": [
       "<matplotlib.figure.Figure at 0x109e9c320>"
      ]
     },
     "metadata": {},
     "output_type": "display_data"
    }
   ],
   "source": [
    "plt.plot(df['rStuns'])\n",
    "plt.xlabel('Games')\n",
    "plt.ylabel('WinData/LoseData')\n",
    "plt.show()"
   ]
  },
  {
   "cell_type": "code",
   "execution_count": 52,
   "metadata": {
    "scrolled": true
   },
   "outputs": [
    {
     "data": {
      "text/plain": [
       "count    538.000000\n",
       "mean       1.388458\n",
       "std        1.277561\n",
       "min        0.020916\n",
       "25%        0.760348\n",
       "50%        1.097467\n",
       "75%        1.601766\n",
       "max       15.723383\n",
       "Name: rStuns, dtype: float64"
      ]
     },
     "execution_count": 52,
     "metadata": {},
     "output_type": "execute_result"
    }
   ],
   "source": [
    "df['rStuns'].describe()\n"
   ]
  },
  {
   "cell_type": "markdown",
   "metadata": {
    "collapsed": true
   },
   "source": [
    "Despite common belief, a team doesn't need overwhelming stun power to win a game. Team fighting is extremely important in a DotA game, but data prove that in most games, stun advantages by winning teams were trivial (mean 1.39). It is because avoiding team fight was a prevailing strategy among pro teams at the time of the tournament. "
   ]
  },
  {
   "cell_type": "markdown",
   "metadata": {},
   "source": [
    "### Prediction Based on Variables"
   ]
  },
  {
   "cell_type": "markdown",
   "metadata": {},
   "source": [
    "Since the dependent variable in this experiment is dichotomous (either win or lose), it would be quite inaccurate to use it as a quantitative variable to produce a regression analysis. As an alternative, I tried to determine the accuracy of predicting the outcome of a game given the three independent variables. Following is the setup. "
   ]
  },
  {
   "cell_type": "code",
   "execution_count": 53,
   "metadata": {
    "collapsed": true
   },
   "outputs": [],
   "source": [
    "from sklearn.svm import SVC\n",
    "from sklearn.utils import shuffle\n",
    "# machine learning tool in python."
   ]
  },
  {
   "cell_type": "code",
   "execution_count": 54,
   "metadata": {},
   "outputs": [
    {
     "data": {
      "text/plain": [
       "Index(['rdRunes', 'rdObs', 'rdStuns'], dtype='object')"
      ]
     },
     "execution_count": 54,
     "metadata": {},
     "output_type": "execute_result"
    }
   ],
   "source": [
    "df = pd.read_csv('data.csv', header=0).dropna()\n",
    "df['rdRunes'] = df.apply(lambda x: ratio_rd(x, 'runes_pickup'), axis=1)\n",
    "df['rdObs'] = df.apply(lambda x: ratio_rd(x, 'obs'), axis=1)\n",
    "df['rdStuns'] = df.apply(lambda x: ratio_rd(x, 'stuns'), axis=1)\n",
    "df.columns[-3:]"
   ]
  },
  {
   "cell_type": "code",
   "execution_count": 55,
   "metadata": {
    "collapsed": true
   },
   "outputs": [],
   "source": [
    "def ratio_rd(row, postfix):\n",
    "        attr = \"%s_%s\"\n",
    "        return row[attr % ('radiant', postfix)] / row[attr % ('dire', postfix)]"
   ]
  },
  {
   "cell_type": "code",
   "execution_count": 56,
   "metadata": {},
   "outputs": [
    {
     "name": "stdout",
     "output_type": "stream",
     "text": [
      "Trial 1\n",
      "Model Accuracy: 76.85%\n",
      "Weights for runes_pickup: 3.3363147723522264\n",
      "Weights for obs_placed  : 1.4719320368898838\n",
      "Weights for stuns       : 0.18456713478669995\n",
      "Trial 1\n",
      "Model Accuracy: 76.39%\n",
      "Weights for runes_pickup: 3.536720323568371\n",
      "Weights for obs_placed  : 1.3467893569074083\n",
      "Weights for stuns       : 0.2617707074983997\n",
      "Trial 1\n",
      "Model Accuracy: 79.63%\n",
      "Weights for runes_pickup: 3.0590840182860957\n",
      "Weights for obs_placed  : 1.8841684683702238\n",
      "Weights for stuns       : 0.008760956810276221\n"
     ]
    },
    {
     "name": "stderr",
     "output_type": "stream",
     "text": [
      "/Users/deoxymoron/anaconda/lib/python3.6/site-packages/ipykernel_launcher.py:9: SettingWithCopyWarning: \n",
      "A value is trying to be set on a copy of a slice from a DataFrame.\n",
      "Try using .loc[row_indexer,col_indexer] = value instead\n",
      "\n",
      "See the caveats in the documentation: http://pandas.pydata.org/pandas-docs/stable/indexing.html#indexing-view-versus-copy\n",
      "  if __name__ == '__main__':\n"
     ]
    }
   ],
   "source": [
    "def svm_helper(df, trainingPercentage=0.6):\n",
    "# Slicing for training and testing\n",
    "# Shuffle the array\n",
    "        threshold = int(df.shape[0] * trainingPercentage)\n",
    "        training_df = df.iloc[:threshold]\n",
    "        testing_df = df.iloc[threshold:]\n",
    "        clf = SVC(decision_function_shape='ovo', kernel='linear')\n",
    "        clf.fit(training_df.iloc[:, -3:], training_df['radiant_win'])\n",
    "        testing_df['predict'] = clf.predict(testing_df.iloc[:, -3:])\n",
    "        result = np.sum(testing_df['predict'] == testing_df['radiant_win'])\n",
    "        print(\"Model Accuracy: {:.2%}\".format(result / testing_df.shape[0]))\n",
    "        weights = clf.coef_[0]\n",
    "        print(\"Weights for runes_pickup: {}\".format(weights[0]))\n",
    "        print(\"Weights for obs_placed  : {}\".format(weights[1]))\n",
    "        print(\"Weights for stuns       : {}\".format(weights[2]))\n",
    "for i in range(3):\n",
    "        df = shuffle(df)\n",
    "        print('Trial 1')\n",
    "        svm_helper(df)"
   ]
  },
  {
   "cell_type": "markdown",
   "metadata": {
    "collapsed": true
   },
   "source": [
    "Based on the trials, the model is quite accurate for a sample size of about 540 games. Since the variables are ex post facto, the results are more for a training purpose rather than an actual prediction of the game. Possible use of such data could be something on the line of \"don't let your opponent pick up ... more runes than you do or you will very likely be at a disadvantage.\" \n",
    "\n",
    "Of course, everything produced from this entire model would be much more accurate if we repeat the procedure on a larger sample (5,400 games maybe?), but the trends displayed here could be useful for team coaches and game analysts if they are willing to extrapolate. "
   ]
  },
  {
   "cell_type": "markdown",
   "metadata": {},
   "source": [
    "### Finally..."
   ]
  },
  {
   "cell_type": "markdown",
   "metadata": {},
   "source": [
    "As machine learning continues to heat up in every aspect of our life, I have to mention [OpenAI](https://blog.openai.com/dota-2/) at the end of my project because it is simply amazing. Google's AlphaGo had managed to beat the best human Go player in the past, and in August, the cutting-edge OpenAI successfully defeated the best DotA 2 players one-on-one in exhibit matches. This is particularly telling of the gaming community that has already been employing heavy capabilities of deep learning technologies. From designing the game to beating it, what can't machines do?"
   ]
  }
 ],
 "metadata": {
  "kernelspec": {
   "display_name": "Python 3",
   "language": "python",
   "name": "python3"
  },
  "language_info": {
   "codemirror_mode": {
    "name": "ipython",
    "version": 3
   },
   "file_extension": ".py",
   "mimetype": "text/x-python",
   "name": "python",
   "nbconvert_exporter": "python",
   "pygments_lexer": "ipython3",
   "version": "3.6.2"
  }
 },
 "nbformat": 4,
 "nbformat_minor": 2
}
